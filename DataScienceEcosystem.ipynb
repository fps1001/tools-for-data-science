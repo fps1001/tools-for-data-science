{
 "cells": [
  {
   "cell_type": "markdown",
   "id": "0d4dc295",
   "metadata": {},
   "source": [
    "<center>\n",
    "    <img src=\"https://cf-courses-data.s3.us.cloud-object-storage.appdomain.cloud/IBMDeveloperSkillsNetwork-DS0105EN-SkillsNetwork/labs/Module2/images/SN_web_lightmode.png\" width=\"300\" alt=\"cognitiveclass.ai logo\">\n",
    "</center>\n"
   ]
  },
  {
   "cell_type": "markdown",
   "id": "8c745ee3",
   "metadata": {},
   "source": [
    "# Hands-on Lab: Create your Jupyter Notebook\n"
   ]
  },
  {
   "cell_type": "markdown",
   "id": "60dcf98e",
   "metadata": {},
   "source": [
    "#### Add your code below following the instructions given in the course\n"
   ]
  },
  {
   "cell_type": "markdown",
   "id": "29089fbe",
   "metadata": {},
   "source": [
    "# Data Science Tools and Ecosystem"
   ]
  },
  {
   "cell_type": "markdown",
   "id": "598e3af0",
   "metadata": {},
   "source": [
    "In this notebook, Data Science Tools and Ecosystem are summarized."
   ]
  },
  {
   "cell_type": "markdown",
   "id": "ebbc4d33",
   "metadata": {},
   "source": [
    "**Objetives**\n",
    "- List popular languages for Data Science\n",
    "- List libraries for Data Science\n",
    "- Evaluate arithmetic expressions in Python\n",
    "\n",
    "## Author\n",
    "Fernando Pisot"
   ]
  },
  {
   "cell_type": "markdown",
   "id": "77c546ae",
   "metadata": {},
   "source": [
    "Some of the popular languages that Data Scientists use are:\n",
    "1. Python\n",
    "2. Java\n",
    "3. C++\n",
    "4. Ruby\n",
    "5. Go\n",
    "6. Dart"
   ]
  },
  {
   "cell_type": "markdown",
   "id": "15388b74",
   "metadata": {},
   "source": [
    "Some of the commonly used libraries used by Data Scientists include:\n",
    "1. Pandas\n",
    "2. Matplotlib\n",
    "3. Scikit-learn\n",
    "4. Numpy"
   ]
  },
  {
   "cell_type": "markdown",
   "id": "dc8d0d32",
   "metadata": {},
   "source": [
    "| Data Science Tools |\n",
    "|---------------------|\n",
    "| Jupyter Notebook    |\n",
    "| Apache Spark        |\n",
    "| RStudio             |"
   ]
  },
  {
   "cell_type": "markdown",
   "id": "47c79957",
   "metadata": {},
   "source": [
    "### Below are a few examples of evaluating arithmetic expressions in Python"
   ]
  },
  {
   "cell_type": "code",
   "execution_count": 1,
   "id": "e6a931cb",
   "metadata": {},
   "outputs": [
    {
     "data": {
      "text/plain": [
       "17"
      ]
     },
     "execution_count": 1,
     "metadata": {},
     "output_type": "execute_result"
    }
   ],
   "source": [
    "(3*4)+5\n",
    "# This a simple arithmetic expression to mutiply then add integers"
   ]
  },
  {
   "cell_type": "code",
   "execution_count": 2,
   "id": "36dd1b60",
   "metadata": {},
   "outputs": [
    {
     "name": "stdout",
     "output_type": "stream",
     "text": [
      "200 minutes is 3 hours and 20 minutes.\n"
     ]
    }
   ],
   "source": [
    "minutes = 200\n",
    "hours = minutes // 60 # only integer division\n",
    "leftover_minutes = minutes % 60 # remainder after division\n",
    "\n",
    "print(f\"{minutes} minutes is {hours} hours and {leftover_minutes} minutes.\")\n",
    "\n",
    "#  This will convert 200 minutes to hours by diving by 60"
   ]
  },
  {
   "cell_type": "markdown",
   "id": "9c9a5c62",
   "metadata": {},
   "source": [
    "Copyright ©2024 IBM Corporation. All rights reserved.\n"
   ]
  }
 ],
 "metadata": {
  "kernelspec": {
   "display_name": "Python 3",
   "language": "python",
   "name": "python3"
  },
  "language_info": {
   "codemirror_mode": {
    "name": "ipython",
    "version": 3
   },
   "file_extension": ".py",
   "mimetype": "text/x-python",
   "name": "python",
   "nbconvert_exporter": "python",
   "pygments_lexer": "ipython3",
   "version": "3.10.2"
  }
 },
 "nbformat": 4,
 "nbformat_minor": 5
}
